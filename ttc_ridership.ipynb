{
 "cells": [
  {
   "cell_type": "markdown",
   "metadata": {},
   "source": [
    "# Data Processing & Cleaning - TTC Ridership\n",
    " "
   ]
  },
  {
   "cell_type": "markdown",
   "metadata": {},
   "source": [
    "This report outlines the steps taken to clean the following data sets:\n",
    "\n",
    "- Open Toronto Data: TTC Ridership data\n",
    "\n",
    "We will perform the following steps to process & clean the data into its final form for analysis: \n",
    "\n",
    "1. General data review\n",
    "2. Data compilation/consolidation ('raw' --> 'processed')\n",
    "3. Data cleaning ('processed' --> 'clean_final')  \n"
   ]
  },
  {
   "cell_type": "markdown",
   "metadata": {},
   "source": [
    "### Libraries"
   ]
  },
  {
   "cell_type": "code",
   "execution_count": 159,
   "metadata": {},
   "outputs": [
    {
     "output_type": "execute_result",
     "data": {
      "text/plain": "<module 'src.mappings' from 'c:\\\\Users\\\\Patrick\\\\OneDrive\\\\PET PROJECTS\\\\TTC Delay Analysis\\\\src\\\\mappings.py'>"
     },
     "metadata": {},
     "execution_count": 159
    }
   ],
   "source": [
    "import pandas as pd \n",
    "from datetime import datetime\n",
    "import src.paths as pt\n",
    "import src.mappings as maps\n",
    "import imp \n",
    "imp.reload(pt)\n",
    "imp.reload(maps)"
   ]
  },
  {
   "cell_type": "markdown",
   "metadata": {},
   "source": []
  },
  {
   "cell_type": "markdown",
   "metadata": {},
   "source": [
    "## 1. General Data Review\n",
    "\n",
    "The dataset, reported by the TTC, tracks the passengers on the transit system and is shared every quarter. \n",
    "\n",
    "The extracted data includes the following features for each year + month from 2007 onwards (see README for data extraction process/parameters): \n",
    "\n",
    "- Average Weekday Ridership  \n",
    "- Monthy Ridership"
   ]
  },
  {
   "cell_type": "markdown",
   "metadata": {},
   "source": [
    "## 2. Data Compilation/Consolidation \n",
    "\n",
    "The ridership data is kept in melted format. For analysis purposes, the data is pivoted/unmelted within the 'data_compiling.py' script and is stored in the 'data/processed/ridership' folder.\n"
   ]
  },
  {
   "cell_type": "markdown",
   "metadata": {},
   "source": [
    "## 3. Cleaning\n",
    "\n",
    "The data already conforms to general tidy data principles. However, to remain consistent with the TTC delay data, we will create an additional 'date' column using the 'Year' and 'Period' features in the processed, pivoted dataset. "
   ]
  },
  {
   "cell_type": "code",
   "execution_count": 160,
   "metadata": {},
   "outputs": [
    {
     "output_type": "stream",
     "name": "stdout",
     "text": "<class 'pandas.core.frame.DataFrame'>\nInt64Index: 153 entries, 0 to 152\nData columns (total 3 columns):\ndate                       153 non-null datetime64[ns]\navg_weekday_ridership      153 non-null float64\nmonthly_total_ridership    141 non-null float64\ndtypes: datetime64[ns](1), float64(2)\nmemory usage: 4.8 KB\n"
    }
   ],
   "source": [
    "ridership = pd.read_csv(pt.ridership_path_processed, \n",
    "                        parse_dates = [[1,2]], \n",
    "                        skiprows = 1, \n",
    "                        index_col = 1)\n",
    "ridership.columns = ['date', \n",
    "                    'avg_weekday_ridership', \n",
    "                    'monthly_total_ridership']\n",
    "\n",
    "ridership.info()"
   ]
  },
  {
   "cell_type": "markdown",
   "metadata": {},
   "source": [
    "The dataset is currenly missing 12 months of monthly ridership figures, but has the corresponding average weekday figures for the same months (the full year of 2007). \n",
    "\n",
    "Therefore, we will impute the missing values as follows:  \n",
    "\n",
    "- Calculate avg_weekday_ridership as a proportion of monthly_total_ridership  \n",
    "- For each month, calculate the average of the proportion calculated in the step above  \n",
    "- Apply the average proportion to each of the missing months to estimate monthly ridership  \n"
   ]
  },
  {
   "cell_type": "code",
   "execution_count": 161,
   "metadata": {},
   "outputs": [
    {
     "output_type": "execute_result",
     "data": {
      "text/plain": "date\n1     0.037806\n2     0.041867\n3     0.032978\n4     0.041341\n5     0.041562\n6     0.032982\n7     0.040539\n8     0.040874\n9     0.033916\n10    0.041384\n11    0.039642\n12    0.035534\nName: proportion, dtype: float64"
     },
     "metadata": {},
     "execution_count": 161
    }
   ],
   "source": [
    "# Steps 1 + 2 \n",
    "ridership['proportion'] = ridership.iloc[:,1]/ridership.iloc[:,2]\n",
    "prop_by_mth = ridership.groupby(ridership.date.dt.month).proportion.mean()\n",
    "\n",
    "prop_by_mth.sort_index()"
   ]
  },
  {
   "cell_type": "code",
   "execution_count": 162,
   "metadata": {},
   "outputs": [
    {
     "output_type": "execute_result",
     "data": {
      "text/plain": "Measure Name\n0     3.606615e+07\n1     3.317548e+07\n2     3.928584e+07\n3     3.549331e+07\n4     3.703124e+07\n5     3.431264e+07\n6     4.466076e+07\n7     4.502974e+07\n8     3.546481e+07\n9     3.879707e+07\n10    3.699460e+07\n11    4.567127e+07\nName: monthly_total_ridership, dtype: float64"
     },
     "metadata": {},
     "execution_count": 162
    }
   ],
   "source": [
    "# Step 3\n",
    "ridership['proportion'] = prop_by_mth[ridership.date.dt.month].values\n",
    "ridership['est_monthly'] = ridership['avg_weekday_ridership']/ridership['proportion']\n",
    "\n",
    "ridership['monthly_total_ridership'].replace(np.nan, \n",
    "                                ridership['est_monthly'], \n",
    "                                inplace = True)\n",
    "\n",
    "# Check previously nan values \n",
    "ridership.loc[ridership.date.dt.year == 2007 ,'monthly_total_ridership']"
   ]
  },
  {
   "cell_type": "code",
   "execution_count": 164,
   "metadata": {},
   "outputs": [
    {
     "output_type": "execute_result",
     "data": {
      "text/plain": "                   date  avg_weekday_ridership  monthly_total_ridership\nMeasure Name                                                           \n4            2007-01-01              1400000.0             3.703124e+07\n3            2007-02-01              1486000.0             3.549331e+07\n7            2007-03-01              1485000.0             4.502974e+07\n0            2007-04-01              1491000.0             3.606615e+07\n8            2007-05-01              1474000.0             3.546481e+07",
      "text/html": "<div>\n<style scoped>\n    .dataframe tbody tr th:only-of-type {\n        vertical-align: middle;\n    }\n\n    .dataframe tbody tr th {\n        vertical-align: top;\n    }\n\n    .dataframe thead th {\n        text-align: right;\n    }\n</style>\n<table border=\"1\" class=\"dataframe\">\n  <thead>\n    <tr style=\"text-align: right;\">\n      <th></th>\n      <th>date</th>\n      <th>avg_weekday_ridership</th>\n      <th>monthly_total_ridership</th>\n    </tr>\n    <tr>\n      <th>Measure Name</th>\n      <th></th>\n      <th></th>\n      <th></th>\n    </tr>\n  </thead>\n  <tbody>\n    <tr>\n      <th>4</th>\n      <td>2007-01-01</td>\n      <td>1400000.0</td>\n      <td>3.703124e+07</td>\n    </tr>\n    <tr>\n      <th>3</th>\n      <td>2007-02-01</td>\n      <td>1486000.0</td>\n      <td>3.549331e+07</td>\n    </tr>\n    <tr>\n      <th>7</th>\n      <td>2007-03-01</td>\n      <td>1485000.0</td>\n      <td>4.502974e+07</td>\n    </tr>\n    <tr>\n      <th>0</th>\n      <td>2007-04-01</td>\n      <td>1491000.0</td>\n      <td>3.606615e+07</td>\n    </tr>\n    <tr>\n      <th>8</th>\n      <td>2007-05-01</td>\n      <td>1474000.0</td>\n      <td>3.546481e+07</td>\n    </tr>\n  </tbody>\n</table>\n</div>"
     },
     "metadata": {},
     "execution_count": 164
    }
   ],
   "source": [
    "ridership = ridership.iloc[:,:3].sort_values('date')\n",
    "ridership.to_csv(pt.ridership_path_cleaned)\n",
    "ridership.head()"
   ]
  }
 ],
 "metadata": {
  "language_info": {
   "codemirror_mode": {
    "name": "ipython",
    "version": 3
   },
   "file_extension": ".py",
   "mimetype": "text/x-python",
   "name": "python",
   "nbconvert_exporter": "python",
   "pygments_lexer": "ipython3",
   "version": "3.7.3-final"
  },
  "orig_nbformat": 2,
  "kernelspec": {
   "name": "python37364bitanaconda3conda904aa9cf9021458bafe43804b25cd04e",
   "display_name": "Python 3.7.3 64-bit ('Anaconda3': conda)"
  }
 },
 "nbformat": 4,
 "nbformat_minor": 2
}