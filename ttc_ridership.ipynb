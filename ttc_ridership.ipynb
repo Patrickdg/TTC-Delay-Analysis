{
 "cells": [
  {
   "cell_type": "markdown",
   "metadata": {},
   "source": [
    "# Data Processing & Cleaning - TTC Ridership\n",
    " "
   ]
  },
  {
   "cell_type": "markdown",
   "metadata": {},
   "source": [
    "This report outlines the steps taken to clean the following data sets:\n",
    "\n",
    "- Open Toronto Data: TTC Ridership data\n",
    "\n",
    "We will perform the following steps to process & clean the data into its final form for analysis: \n",
    "\n",
    "1. General data review\n",
    "2. Data compilation/consolidation ('raw' --> 'processed')\n",
    "3. Data cleaning ('processed' --> 'clean_final')  \n"
   ]
  },
  {
   "cell_type": "markdown",
   "metadata": {},
   "source": []
  },
  {
   "cell_type": "markdown",
   "metadata": {},
   "source": [
    "## 1. General Data Review\n",
    "\n",
    "The dataset, reported by the TTC, tracks the passengers on the transit system and is shared every quarter. \n",
    "\n",
    "The extracted data includes the following features for each year + month from 2007 onwards (see README for data extraction process/parameters): \n",
    "\n",
    "- Average Weekday Ridership  \n",
    "- Monthy Ridership"
   ]
  }
 ],
 "metadata": {
  "language_info": {
   "codemirror_mode": {
    "name": "ipython",
    "version": 3
   },
   "file_extension": ".py",
   "mimetype": "text/x-python",
   "name": "python",
   "nbconvert_exporter": "python",
   "pygments_lexer": "ipython3",
   "version": 3
  },
  "orig_nbformat": 2
 },
 "nbformat": 4,
 "nbformat_minor": 2
}