{
 "cells": [
  {
   "cell_type": "markdown",
   "metadata": {},
   "source": [
    "# Data Processing & Cleaning - Canada Weather\n",
    " "
   ]
  },
  {
   "cell_type": "markdown",
   "metadata": {},
   "source": [
    "This report outlines the steps taken to clean the following data sets:\n",
    "\n",
    "- Canada Historical Weather data\n",
    "\n",
    "We will perform the following steps to process & clean the data into its final form for analysis: \n",
    "\n",
    "1. General data review\n",
    "2. Data compilation/consolidation ('raw' --> 'processed')\n",
    "3. Data cleaning ('processed' --> 'clean_final')  \n"
   ]
  },
  {
   "cell_type": "markdown",
   "metadata": {},
   "source": [
    "### Libraries "
   ]
  },
  {
   "cell_type": "code",
   "execution_count": 2,
   "metadata": {},
   "outputs": [
    {
     "output_type": "execute_result",
     "data": {
      "text/plain": "<module 'src.mappings' from 'c:\\\\Users\\\\Patrick\\\\OneDrive\\\\PET PROJECTS\\\\TTC Delay Analysis\\\\src\\\\mappings.py'>"
     },
     "metadata": {},
     "execution_count": 2
    }
   ],
   "source": [
    "import os\n",
    "import pandas as pd \n",
    "import numpy as np\n",
    "import re\n",
    "from datetime import datetime\n",
    "import src.paths as pt\n",
    "import src.mappings as maps\n",
    "import imp \n",
    "imp.reload(pt)\n",
    "imp.reload(maps)"
   ]
  },
  {
   "cell_type": "markdown",
   "metadata": {},
   "source": [
    "## 1. General Data Review\n",
    "\n",
    "The weather data set is extracted from the [Canada Weather Stats website](weatherstats.ca) which obtains data directly from [Environment and Climate Change Canada](https://weather.gc.ca/).\n",
    "\n",
    "Both hourly and daily data sets are extracted to allow for extra granularity (hourly), but also snow and rain measures (daily, as these features are not present in the hourly data).\n",
    "\n",
    "The hourly dataset contains the following features: "
   ]
  },
  {
   "cell_type": "code",
   "execution_count": 4,
   "metadata": {},
   "outputs": [
    {
     "output_type": "stream",
     "name": "stdout",
     "text": "<class 'pandas.core.frame.DataFrame'>\nRangeIndex: 60000 entries, 0 to 59999\nData columns (total 19 columns):\ndate_time_local      60000 non-null object\nunixtime             60000 non-null int64\npressure_station     59971 non-null float64\npressure_sea         59971 non-null float64\nwind_dir             57248 non-null object\nwind_dir_10s         59947 non-null float64\nwind_speed           59973 non-null float64\nwind_gust            13580 non-null float64\nrelative_humidity    59964 non-null float64\ndew_point            59966 non-null float64\ntemperature          59973 non-null float64\nwindchill            14191 non-null float64\nhumidex              9722 non-null float64\nvisibility           59975 non-null float64\nhealth_index         59428 non-null float64\ncloud_cover_4        0 non-null float64\ncloud_cover_8        56536 non-null float64\ncloud_cover_10       0 non-null float64\nsolar_radiation      0 non-null float64\ndtypes: float64(16), int64(1), object(2)\nmemory usage: 8.7+ MB\n"
    }
   ],
   "source": [
    "hourly = pd.read_csv(pt.hourly_weather_path)\n",
    "hourly.info()"
   ]
  },
  {
   "cell_type": "markdown",
   "metadata": {},
   "source": [
    "The daily dataset contains the same features, with columns for aggregates of the features (e.g., avg, min, max) as well as additional features including:  \n",
    "\n",
    "- Snow  \n",
    "- Rain  \n",
    "- Sunrise  \n",
    "- Sunset  \n",
    "- Daylight "
   ]
  },
  {
   "cell_type": "markdown",
   "metadata": {},
   "source": [
    "## 2. Data Compilation/Consolidation \n",
    "\n",
    "No additional compilation or formatting is required to prepare the data files for cleaning. These files will be kept in the 'data/raw/weather' folder until final cleaning is performed."
   ]
  }
 ],
 "metadata": {
  "language_info": {
   "codemirror_mode": {
    "name": "ipython",
    "version": 3
   },
   "file_extension": ".py",
   "mimetype": "text/x-python",
   "name": "python",
   "nbconvert_exporter": "python",
   "pygments_lexer": "ipython3",
   "version": "3.7.3-final"
  },
  "orig_nbformat": 2,
  "kernelspec": {
   "name": "python37364bitanaconda3conda904aa9cf9021458bafe43804b25cd04e",
   "display_name": "Python 3.7.3 64-bit ('Anaconda3': conda)"
  }
 },
 "nbformat": 4,
 "nbformat_minor": 2
}