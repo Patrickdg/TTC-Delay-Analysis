{
 "cells": [
  {
   "cell_type": "markdown",
   "metadata": {},
   "source": [
    "# Data Processing & Cleaning - TTC Delays\n",
    " "
   ]
  },
  {
   "cell_type": "markdown",
   "metadata": {},
   "source": [
    "This report outlines the steps taken to clean the following data sets:\n",
    "\n",
    "- Open Toronto Data: TTC Subway, Streetcar, & Bus Delay data sets\n",
    "\n",
    "We will perform the following steps to process & clean the data into its final form for analysis: \n",
    "\n",
    "1. General data review\n",
    "2. Data compilation/consolidation ('raw' --> 'processed')\n",
    "3. Data cleaning ('processed' --> 'clean_final')  \n",
    "\n",
    "\n"
   ]
  },
  {
   "cell_type": "markdown",
   "metadata": {},
   "source": [
    "## 1. General Data Review\n",
    "\n",
    "Toronto's open data portal does not currently have information regarding the data collection methods used for delay data (e.g., who records instances, how frequently, how manual or automated the process is). \n",
    "\n",
    "We assume that the delay data contains all known delays in the TTC during the time period for which data is collected for. \n",
    "\n",
    "The data for all modes of transportation contain the following features: \n"
   ]
  },
  {
   "cell_type": "markdown",
   "metadata": {},
   "source": [
    "### Libraries"
   ]
  },
  {
   "cell_type": "code",
   "execution_count": 11,
   "metadata": {},
   "outputs": [
    {
     "output_type": "execute_result",
     "data": {
      "text/plain": "    Field Name                                        Description  \\\n0  Report Date  The date (YYYY/MM/DD) when the delay-causing i...   \n1        Route                  The number of the streetcar route   \n2         Time  The time (hh:mm:ss AM/PM) when the delay-causi...   \n3          Day                                The name of the day   \n4     Location         The location of the delay-causing incident   \n5     Incident      The description of the delay-causing incident   \n6    Min Delay  The delay, in minutes, to the schedule for the...   \n7      Min Gap  The total scheduled time, in minutes, from the...   \n8    Direction  The direction of the bus route where B,b or BW...   \n9      Vehicle                                     Vehicle number   \n\n               Example  \n0  2017-06-20 00:00:00  \n1                   51  \n2             00:35:00  \n3               Monday  \n4   York Mills Station  \n5           Mechanical  \n6                   10  \n7                   20  \n8                    N  \n9                 1057  ",
      "text/html": "<div>\n<style scoped>\n    .dataframe tbody tr th:only-of-type {\n        vertical-align: middle;\n    }\n\n    .dataframe tbody tr th {\n        vertical-align: top;\n    }\n\n    .dataframe thead th {\n        text-align: right;\n    }\n</style>\n<table border=\"1\" class=\"dataframe\">\n  <thead>\n    <tr style=\"text-align: right;\">\n      <th></th>\n      <th>Field Name</th>\n      <th>Description</th>\n      <th>Example</th>\n    </tr>\n  </thead>\n  <tbody>\n    <tr>\n      <th>0</th>\n      <td>Report Date</td>\n      <td>The date (YYYY/MM/DD) when the delay-causing i...</td>\n      <td>2017-06-20 00:00:00</td>\n    </tr>\n    <tr>\n      <th>1</th>\n      <td>Route</td>\n      <td>The number of the streetcar route</td>\n      <td>51</td>\n    </tr>\n    <tr>\n      <th>2</th>\n      <td>Time</td>\n      <td>The time (hh:mm:ss AM/PM) when the delay-causi...</td>\n      <td>00:35:00</td>\n    </tr>\n    <tr>\n      <th>3</th>\n      <td>Day</td>\n      <td>The name of the day</td>\n      <td>Monday</td>\n    </tr>\n    <tr>\n      <th>4</th>\n      <td>Location</td>\n      <td>The location of the delay-causing incident</td>\n      <td>York Mills Station</td>\n    </tr>\n    <tr>\n      <th>5</th>\n      <td>Incident</td>\n      <td>The description of the delay-causing incident</td>\n      <td>Mechanical</td>\n    </tr>\n    <tr>\n      <th>6</th>\n      <td>Min Delay</td>\n      <td>The delay, in minutes, to the schedule for the...</td>\n      <td>10</td>\n    </tr>\n    <tr>\n      <th>7</th>\n      <td>Min Gap</td>\n      <td>The total scheduled time, in minutes, from the...</td>\n      <td>20</td>\n    </tr>\n    <tr>\n      <th>8</th>\n      <td>Direction</td>\n      <td>The direction of the bus route where B,b or BW...</td>\n      <td>N</td>\n    </tr>\n    <tr>\n      <th>9</th>\n      <td>Vehicle</td>\n      <td>Vehicle number</td>\n      <td>1057</td>\n    </tr>\n  </tbody>\n</table>\n</div>"
     },
     "metadata": {},
     "execution_count": 11
    }
   ],
   "source": [
    "import os\n",
    "import pandas as pd \n",
    "import numpy as np\n",
    "import re\n",
    "from datetime import datetime\n",
    "import src.paths as pt\n",
    "import src.mappings as maps\n",
    "import imp \n",
    "imp.reload(pt)\n",
    "imp.reload(maps)\n",
    "\n",
    "pd.read_excel(pt.sc_readme)"
   ]
  },
  {
   "cell_type": "markdown",
   "metadata": {},
   "source": [
    "**Notes:**  \n",
    "- In the subway delay data, the 'Incident' feature is denoted as 'Code', with a separate code book mapping the codes to their respective delay details.  \n",
    "- In addition, the 'Location' featured is labelled 'Station' as subway delays typically occur at particular stations (as opposed to bus/streetcar delays potentially occuring at specific intersections between stops).  \n",
    "- 'Direction' is also labelled as 'Bound'. "
   ]
  },
  {
   "cell_type": "markdown",
   "metadata": {},
   "source": [
    "## 2. Data Compiling/Consolidation\n",
    "### TTC Delay Data\n",
    "The TTC delay data files have been compiled into their processed forms from the 'data_compiling.py' script in this repository. A few notes regarding the compilation steps taken: \n",
    "\n",
    "#### Subway Files\n",
    "\n",
    "- Files are split by Month and Year of delay record. \n",
    "- Data for Jan 2014-April 2017 is stored in a single file, stacked in a single sheet. Therefore, we keep this as is and continue to stack all months of data together for analysis. \n",
    "- README and delay codes files moved into a separate 'docs' folder.  \n",
    "- For simplicity, the raw delay code book file for subway data was reformatted to stack all codes into a single table; columns renamed to 'DELAY_CODE' and 'DESCRIPTION'.\n",
    "\n",
    "#### Streetcar & Bus Files\n",
    "\n",
    "- Files are split by Year only, with individual sheets containing each month of data (in comparison to Subway data files). Therefore, slightly modified method of compiling streetcar & bus data was used to first concatenate sheets, then concatenate workbooks.\n",
    "- Inconsistencies were present in column names for the following: \n",
    "    1. Streetcar: Inconsistent columns 'Delay', 'Gap' were merged to more conventional 'Min Delay' and 'Min Gap' columns. 'Incident ID' column removed.\n",
    "    2. Bus: Inconsistent columns 'Delay'/' Min Delay', 'Gap' were merged to more conventional 'Min Delay' and 'Min Gap' columns 'Incident ID' column removed.\n",
    "\n",
    "Processed, pre-cleaned files are saved in their respective 'data/processed/ttc' folders.\n",
    "\n"
   ]
  },
  {
   "cell_type": "markdown",
   "metadata": {},
   "source": [
    "## 3. Cleaning\n",
    "\n",
    "Below are the general steps taken to clean the data: \n",
    "\n",
    "- Inspection: types, summaries, counts, outliers\n",
    "- Cleaning: \n",
    "    - Remove irrelevant data if necessary  \n",
    "    - Data types\n",
    "    - Check for duplicates\n",
    "    - Syntax, typos (re-mapping)\n",
    "    - Check for missing values: \n",
    "        - Remove records if random or rare occurences, \n",
    "        - Impute, \n",
    "        - Flag \"missing\"\n",
    "    - Scaling/Transformations/Normalization if necessary \n",
    "    - Review outliers and determine keep/remove\n",
    "\n",
    "### TTC Delay Data\n",
    "#### Subway Files \n",
    "\n",
    "Using the subway delay code book, we will map the Delay Codes to their respective descriptions for better analysis of the data. "
   ]
  },
  {
   "cell_type": "code",
   "execution_count": 90,
   "metadata": {},
   "outputs": [],
   "source": [
    "sub = pd.read_csv(pt.sub_path_processed, index_col = 0)\n",
    "codes = pd.read_excel(pt.sub_delay_codes)\n",
    "\n",
    "sub = sub.merge(codes, how = 'left', left_on = 'Code', right_on = 'DELAY_CODE')\n",
    "\n",
    "sub.columns = map(lambda x: x.lower().replace(' ','_'), sub.columns)\n",
    "sub.drop('unnamed:_0', axis = 1, inplace = True)\n",
    "sub.drop('delay_code', axis = 1, inplace = True)\n"
   ]
  },
  {
   "cell_type": "code",
   "execution_count": 91,
   "metadata": {},
   "outputs": [
    {
     "output_type": "stream",
     "name": "stdout",
     "text": "<class 'pandas.core.frame.DataFrame'>\nInt64Index: 121904 entries, 0 to 121903\nData columns (total 11 columns):\ndate           121904 non-null object\ntime           121904 non-null object\nday            121904 non-null object\nstation        121904 non-null object\ncode           121903 non-null object\nmin_delay      121904 non-null int64\nmin_gap        121904 non-null int64\nbound          95292 non-null object\nline           121435 non-null object\nvehicle        121904 non-null int64\ndescription    119249 non-null object\ndtypes: int64(3), object(8)\nmemory usage: 11.2+ MB\n"
    }
   ],
   "source": [
    "sub.info()"
   ]
  },
  {
   "cell_type": "markdown",
   "metadata": {},
   "source": [
    "First, we'll review why there are ~25,000 missing records in the 'bound' column. "
   ]
  },
  {
   "cell_type": "code",
   "execution_count": 92,
   "metadata": {},
   "outputs": [
    {
     "output_type": "execute_result",
     "data": {
      "text/plain": "Injured or ill Customer (In Station) - Transported            0.222429\nMiscellaneous General Delays                                  0.206627\nMiscellaneous Other                                           0.167163\nEscalator/Elevator Incident                                   0.114834\nInjured or ill Customer (In Station) - Medical Aid Refused    0.044387\nStation Stairway Incident                                     0.040457\nDisorderly Patron                                             0.029660\nInjured or ill Customer (On Train) - Transported              0.019442\nAssault / Patron Involved                                     0.016671\nStation Other                                                 0.016505\nName: description, dtype: float64"
     },
     "metadata": {},
     "execution_count": 92
    }
   ],
   "source": [
    "no_bound = sub['bound'].isna()\n",
    "sub.loc[no_bound].description.value_counts(normalize = True).head(10)"
   ]
  },
  {
   "cell_type": "markdown",
   "metadata": {},
   "source": [
    "The majority of the records with missing bound/direction values occured in station or are 'miscellaneous' delays (of which we do not have information on what this bucket entails). However, given that these records represent a large portion of the total dataset (and likely of the 'miscellaneous' variety), we will keep these records in and denote them as 'No Bound'.  \n",
    "\n",
    "We will also remove records whose value appears to be a typo (i.e., *not* N, E, S, or W, as there is no readme information on any other bounds/directions applicable to the dataset)"
   ]
  },
  {
   "cell_type": "code",
   "execution_count": 93,
   "metadata": {},
   "outputs": [
    {
     "output_type": "execute_result",
     "data": {
      "text/plain": "No Bound    26612\nW           25323\nS           24992\nE           23402\nN           21523\nName: bound, dtype: int64"
     },
     "metadata": {},
     "execution_count": 93
    }
   ],
   "source": [
    "sub.loc[no_bound,'bound'] = 'No Bound'\n",
    "\n",
    "keep_bound = sub.bound.isin(['No Bound','N','E','S','W'])\n",
    "sub.drop(sub[~keep_bound].index, axis = 0, inplace = True)\n",
    "\n",
    "sub.bound.value_counts()"
   ]
  },
  {
   "cell_type": "markdown",
   "metadata": {},
   "source": [
    "We will review the ~500 missing values in the 'line' column similarly:"
   ]
  },
  {
   "cell_type": "code",
   "execution_count": 94,
   "metadata": {},
   "outputs": [
    {
     "output_type": "execute_result",
     "data": {
      "text/plain": "Miscellaneous Other                                           0.246606\nInjured or ill Customer (In Station) - Transported            0.162896\nMiscellaneous General Delays                                  0.144796\nEscalator/Elevator Incident                                   0.056561\nInjured Employee                                              0.049774\nInjured or ill Customer (In Station) - Medical Aid Refused    0.031674\nOperator Overspeeding                                         0.027149\nMiscellaneous Speed Control                                   0.022624\nDisorderly Patron                                             0.020362\nStation Stairway Incident                                     0.020362\nName: description, dtype: float64"
     },
     "metadata": {},
     "execution_count": 94
    }
   ],
   "source": [
    "no_line = sub['line'].isna()\n",
    "sub.loc[no_line].description.value_counts(normalize = True).head(10)"
   ]
  },
  {
   "cell_type": "markdown",
   "metadata": {},
   "source": [
    "The majority of these records are 'miscellaneous' or occur outside of the train. Therefore, we will keep these records and denote with 'No Line'.\n",
    "\n",
    "We will also standardize the values of the 'line' column by removing whitespaces, dashes, and general typos (via mapping). "
   ]
  },
  {
   "cell_type": "code",
   "execution_count": 95,
   "metadata": {},
   "outputs": [
    {
     "output_type": "execute_result",
     "data": {
      "text/plain": "BD        56652\nYU        55038\nSRT        4412\nSHP        3973\nYUBD       1257\nNoLine      469\nName: line, dtype: int64"
     },
     "metadata": {},
     "execution_count": 95
    }
   ],
   "source": [
    "sub.loc[no_line,'line'] = 'No Line'\n",
    "\n",
    "for char in ['/','-',' ']:\n",
    "    sub.line = sub.line.map(lambda x: str(x).replace(f'{char}', ''))\n",
    "\n",
    "line_mapping = {\n",
    "        'BD': 'BD',\n",
    "        'YU': 'YU',\n",
    "        'SRT': 'SRT',\n",
    "        'SHP': 'SHP',\n",
    "        'YUBD': 'YUBD',\n",
    "        'NoLine': 'NoLine',\n",
    "        'YUS': 'YU',\n",
    "        'BDYU': 'YUBD',\n",
    "        'BDYUS': 'YUBD',\n",
    "        'BDLINE': 'BD',\n",
    "        'YULINE': 'YU',\n",
    "        'BLOORDANFORTHLINES': 'BD'\n",
    "    }\n",
    "\n",
    "sub.line = sub.line.map(line_mapping)\n",
    "# Remove records with 'bound' not on a subway line\n",
    "not_sub = sub['line'].isna()\n",
    "sub.drop(sub[not_sub].index, axis = 0, inplace = True)\n",
    "\n",
    "sub.line.value_counts().head(20)"
   ]
  },
  {
   "cell_type": "markdown",
   "metadata": {},
   "source": [
    "We will also bucket any rows with no delay 'code'/'description' into 'Miscellaneous General Delays' as opposed to removing them from the data set (in order to prevent skewing the total delay and gap mins. features when analyzing the entire set). "
   ]
  },
  {
   "cell_type": "code",
   "execution_count": 96,
   "metadata": {},
   "outputs": [],
   "source": [
    "no_description = sub.description.isna()\n",
    "sub.loc[no_description, 'description'] = 'Miscellaneous General Delays'\n",
    "\n",
    "no_code = sub.code.isna()\n",
    "sub.drop(sub[no_code].index, axis = 0, inplace = True)"
   ]
  },
  {
   "cell_type": "markdown",
   "metadata": {},
   "source": [
    "From review of the unique station names, there are differing usages of '-', '/', and spaces, similar to the 'line' column. \n",
    "\n",
    "However, considering the large number of unique station names (> 500) and the large proportion of occurences in the first 75 unique stations (~96%), we will focus on standardizing station names for these first 75 and review the remaining for any unusual outliers."
   ]
  },
  {
   "cell_type": "code",
   "execution_count": 97,
   "metadata": {},
   "outputs": [
    {
     "output_type": "execute_result",
     "data": {
      "text/plain": "535"
     },
     "metadata": {},
     "execution_count": 97
    }
   ],
   "source": [
    "# Number of unique station names\n",
    "len(sub.station.value_counts())"
   ]
  },
  {
   "cell_type": "code",
   "execution_count": 98,
   "metadata": {},
   "outputs": [
    {
     "output_type": "execute_result",
     "data": {
      "text/plain": "0.96"
     },
     "metadata": {},
     "execution_count": 98
    }
   ],
   "source": [
    "# Proportion of delay occurences in the 75 most common station names (out of 500) \n",
    "round(sub.station.value_counts()[0:75].sum() / len(sub.station), 2)"
   ]
  },
  {
   "cell_type": "code",
   "execution_count": 99,
   "metadata": {},
   "outputs": [],
   "source": [
    "for char in ['/','-','(',')','.','&']:\n",
    "    sub.station = sub.station.map(lambda x: str(x).replace(f'{char}', ''))\n",
    "\n",
    "sub.station = sub.station.map(lambda x: re.sub(r' +', ' ', x))"
   ]
  },
  {
   "cell_type": "markdown",
   "metadata": {},
   "source": [
    "**A few notes on select station names**: \n",
    "\n",
    "- *BLOOR DANFORTH SUBWAY - 2,558 occurences*: it isn't clear if this is referring to bloor-yonge station or a general indicator for the bloor-danforth subway line. However, from review of the delay descriptions, 2,241 of the occurences are 'Miscellaneous', suggesting that these delays occur on the BD-line level.  \n",
    "- *TORONTO TRANSIT COMMIS - 286 occurences*: 284 occurences = 'Miscellaneous'"
   ]
  },
  {
   "cell_type": "markdown",
   "metadata": {},
   "source": [
    "From review of the 'min_delay' feature, 85,354 occurences have 0 minute delays (with nearly all of these occurences also having 0 minute gaps in the 'min_gap' feature)."
   ]
  },
  {
   "cell_type": "code",
   "execution_count": 100,
   "metadata": {},
   "outputs": [
    {
     "output_type": "execute_result",
     "data": {
      "text/plain": "85354"
     },
     "metadata": {},
     "execution_count": 100
    }
   ],
   "source": [
    "len(sub.loc[sub['min_delay'] == 0])"
   ]
  },
  {
   "cell_type": "markdown",
   "metadata": {},
   "source": [
    "For some of the top delay causes with 0 minute durations, it's unclear whether there *should* be a minute delay duration because they could have occured outside of train, thereby, *not* affecting train timing (e.g., injuries in station, miscellaneous general/other delays, escalator/elevator incidents, disorderly patrons). \n",
    "\n",
    "However, many of the top delay causes can be safely assumed to have caused delay durations longer than 0 minutes due to their nature (e.g., injuries on train, brakes, signals - train stops, signals or related components). \n",
    "\n",
    "Therefore, considering the large proportion of delay occurences marked with 0 minute durations, the data set is likely underestimating the total time delays across the system (though, it is difficult to determine to what extent the delay durations are underestimated). "
   ]
  },
  {
   "cell_type": "code",
   "execution_count": 101,
   "metadata": {},
   "outputs": [
    {
     "output_type": "execute_result",
     "data": {
      "text/plain": "Miscellaneous Speed Control                                   17923\nOperator Overspeeding                                         13420\nInjured or ill Customer (In Station) - Transported             7708\nMiscellaneous General Delays                                   7526\nPassenger Assistance Alarm Activated - No Trouble Found        6587\nMiscellaneous Other                                            4586\nEscalator/Elevator Incident                                    3004\nOperator Violated Signal                                       2159\nDisorderly Patron                                              2067\nInjured or ill Customer (In Station) - Medical Aid Refused     1758\nSpeed Control Equipment                                        1554\nInjured or ill Customer (On Train) - Medical Aid Refused       1332\nStation Stairway Incident                                      1185\nInjured or ill Customer (On Train) - Transported               1049\nBrakes                                                          916\nPassenger Other                                                 879\nCollector Booth Alarm Activated                                 640\nAssault / Patron Involved                                       623\nOperator Overshot Platform                                      606\nSignals - Train Stops                                           589\nSignals or Related Components Failure                           547\nSignal Problem - No Trouble                                     484\nMisc. Transportation Other - Employee Non-Chargeable            468\nStation Other                                                   422\nAssault / Employee Involved                                     407\nName: description, dtype: int64"
     },
     "metadata": {},
     "execution_count": 101
    }
   ],
   "source": [
    "sub.loc[(sub['min_delay'] == 0) & (sub['min_gap'] == 0)].description.value_counts().head(25)"
   ]
  },
  {
   "cell_type": "markdown",
   "metadata": {},
   "source": [
    "For the records that did not occur within vehicle (and have a 'vehicle' value of 0), we flag these as 'No Vehicle'"
   ]
  },
  {
   "cell_type": "code",
   "execution_count": 102,
   "metadata": {},
   "outputs": [],
   "source": [
    "sub.vehicle.replace(0, 'No Vehicle', inplace = True)"
   ]
  },
  {
   "cell_type": "markdown",
   "metadata": {},
   "source": [
    "Finally, we will add a 'mode' column for analysis purposes as we intend to stack subway, streetcar, and bus data into a single file.\n",
    "\n",
    "The cleaned subway dataset can be found in the 'cleaned_final' folder. "
   ]
  },
  {
   "cell_type": "code",
   "execution_count": 103,
   "metadata": {},
   "outputs": [
    {
     "output_type": "execute_result",
     "data": {
      "text/plain": "         date   time     day    mode route     vehicle               location  \\\n0  2018-04-01  00:27  Sunday  subway    BD        5256   ST GEORGE BD STATION   \n1  2018-04-01  07:56  Sunday  subway    YU        5751          FINCH STATION   \n2  2018-04-01  08:00  Sunday  subway    YU  No Vehicle  YONGE UNIVERSITY LINE   \n3  2018-04-01  09:50  Sunday  subway    BD        5139        KIPLING STATION   \n4  2018-04-01  10:18  Sunday  subway    BD        5354  VICTORIA PARK STATION   \n\n  direction                     incident  min_delay  min_gap  \n0         W           Unsanitary Vehicle          8       12  \n1         S        Operator Overspeeding          0        0  \n2  No Bound          Miscellaneous Other          0        0  \n3         W        Operator Overspeeding          0        0  \n4         W  Miscellaneous Speed Control          0        0  ",
      "text/html": "<div>\n<style scoped>\n    .dataframe tbody tr th:only-of-type {\n        vertical-align: middle;\n    }\n\n    .dataframe tbody tr th {\n        vertical-align: top;\n    }\n\n    .dataframe thead th {\n        text-align: right;\n    }\n</style>\n<table border=\"1\" class=\"dataframe\">\n  <thead>\n    <tr style=\"text-align: right;\">\n      <th></th>\n      <th>date</th>\n      <th>time</th>\n      <th>day</th>\n      <th>mode</th>\n      <th>route</th>\n      <th>vehicle</th>\n      <th>location</th>\n      <th>direction</th>\n      <th>incident</th>\n      <th>min_delay</th>\n      <th>min_gap</th>\n    </tr>\n  </thead>\n  <tbody>\n    <tr>\n      <th>0</th>\n      <td>2018-04-01</td>\n      <td>00:27</td>\n      <td>Sunday</td>\n      <td>subway</td>\n      <td>BD</td>\n      <td>5256</td>\n      <td>ST GEORGE BD STATION</td>\n      <td>W</td>\n      <td>Unsanitary Vehicle</td>\n      <td>8</td>\n      <td>12</td>\n    </tr>\n    <tr>\n      <th>1</th>\n      <td>2018-04-01</td>\n      <td>07:56</td>\n      <td>Sunday</td>\n      <td>subway</td>\n      <td>YU</td>\n      <td>5751</td>\n      <td>FINCH STATION</td>\n      <td>S</td>\n      <td>Operator Overspeeding</td>\n      <td>0</td>\n      <td>0</td>\n    </tr>\n    <tr>\n      <th>2</th>\n      <td>2018-04-01</td>\n      <td>08:00</td>\n      <td>Sunday</td>\n      <td>subway</td>\n      <td>YU</td>\n      <td>No Vehicle</td>\n      <td>YONGE UNIVERSITY LINE</td>\n      <td>No Bound</td>\n      <td>Miscellaneous Other</td>\n      <td>0</td>\n      <td>0</td>\n    </tr>\n    <tr>\n      <th>3</th>\n      <td>2018-04-01</td>\n      <td>09:50</td>\n      <td>Sunday</td>\n      <td>subway</td>\n      <td>BD</td>\n      <td>5139</td>\n      <td>KIPLING STATION</td>\n      <td>W</td>\n      <td>Operator Overspeeding</td>\n      <td>0</td>\n      <td>0</td>\n    </tr>\n    <tr>\n      <th>4</th>\n      <td>2018-04-01</td>\n      <td>10:18</td>\n      <td>Sunday</td>\n      <td>subway</td>\n      <td>BD</td>\n      <td>5354</td>\n      <td>VICTORIA PARK STATION</td>\n      <td>W</td>\n      <td>Miscellaneous Speed Control</td>\n      <td>0</td>\n      <td>0</td>\n    </tr>\n  </tbody>\n</table>\n</div>"
     },
     "metadata": {},
     "execution_count": 103
    }
   ],
   "source": [
    "# Add mode column\n",
    "sub['mode'] = 'subway'\n",
    "\n",
    "# Reorder & rename columns\n",
    "sub = sub[['date','time','day','mode','line','vehicle','station','bound','description','min_delay','min_gap']]\n",
    "sub.columns = ['date','time','day','mode','route','vehicle','location','direction','incident','min_delay','min_gap']\n",
    "\n",
    "sub.to_csv(pt.sub_path_cleaned)\n",
    "\n",
    "sub.head()"
   ]
  },
  {
   "cell_type": "markdown",
   "metadata": {},
   "source": [
    "#### Streetcar Files \n",
    "\n",
    "We will clean and standardize the streetcar and bus data with similar methodology to the subway data."
   ]
  },
  {
   "cell_type": "code",
   "execution_count": 104,
   "metadata": {},
   "outputs": [
    {
     "output_type": "stream",
     "name": "stdout",
     "text": "<class 'pandas.core.frame.DataFrame'>\nInt64Index: 78525 entries, 0 to 11881\nData columns (total 11 columns):\ndate         78525 non-null object\ntime         78525 non-null object\nday          78525 non-null object\nmode         78525 non-null object\nroute        78525 non-null int64\nvehicle      73890 non-null float64\nlocation     78276 non-null object\ndirection    78217 non-null object\nincident     78525 non-null object\nmin_delay    78448 non-null float64\nmin_gap      78409 non-null float64\ndtypes: float64(3), int64(1), object(7)\nmemory usage: 7.2+ MB\n"
    }
   ],
   "source": [
    "sc = pd.read_csv(pt.sc_path_processed, index_col = 0)\n",
    "\n",
    "sc.columns = map(lambda x: x.lower().replace(' ','_'), sc.columns)\n",
    "sc['mode'] = 'streetcar'\n",
    "sc = sc[['report_date','time','day','mode','route','vehicle','location','direction','incident','min_delay','min_gap']]\n",
    "sc.columns = ['date','time','day','mode','route','vehicle','location','direction','incident','min_delay','min_gap']\n",
    "\n",
    "sc.info()"
   ]
  },
  {
   "cell_type": "markdown",
   "metadata": {},
   "source": [
    "##### Location\n",
    "\n",
    "- Cleaning punctuation & extra spaces  \n",
    "- Standardizing values (i.e., multiple shortenings of 'station' to 'stn', 'STN', etc.)\n",
    "\n",
    "With the use of excel, we build a mapping 'sc_locations_mapping' stored in the mappings.py file to iterate over our location column and replace the most common typos."
   ]
  },
  {
   "cell_type": "code",
   "execution_count": 105,
   "metadata": {},
   "outputs": [],
   "source": [
    "sc.location = sc.location.str.lower()\n",
    "mapping = maps.sc_locations_mapping\n",
    "\n",
    "for key in mapping.keys():\n",
    "    for value in mapping[key]: \n",
    "       sc.location = sc.location.map(lambda x: str(x).replace(value, key))\n",
    "\n",
    "sc.location = sc.location.map(lambda x: re.sub(r' +', ' ', str(x)))"
   ]
  },
  {
   "cell_type": "code",
   "execution_count": 106,
   "metadata": {},
   "outputs": [],
   "source": [
    "# Flag no location\n",
    "sc.loc[sc.location.isna(), 'location'] = 'No Location'"
   ]
  },
  {
   "cell_type": "markdown",
   "metadata": {},
   "source": [
    "##### Time\n",
    "\n",
    "- Inconsistent times found, replaced to 'missing time' flag"
   ]
  },
  {
   "cell_type": "code",
   "execution_count": 107,
   "metadata": {},
   "outputs": [],
   "source": [
    "# Cleaning inconsistent times \n",
    "sc.loc[sc.time.map(len) != 8, 'time'] = 'Missing'"
   ]
  },
  {
   "cell_type": "markdown",
   "metadata": {},
   "source": [
    "##### Direction\n",
    "\n",
    "Similar cleaning performed on the subway 'bound' feature will be performed:"
   ]
  },
  {
   "cell_type": "code",
   "execution_count": 108,
   "metadata": {},
   "outputs": [],
   "source": [
    "imp.reload(maps)\n",
    "sc.direction = sc.direction.str.lower()\n",
    "mapping = maps.sc_direction_map\n",
    "\n",
    "for key in mapping.keys():\n",
    "    for value in mapping[key]: \n",
    "       sc.direction = sc.direction.map(lambda x: str(x).replace(value, key))\n",
    "\n",
    "sc.direction = sc.direction.map(lambda x: re.sub(r' +', ' ', str(x)))"
   ]
  },
  {
   "cell_type": "code",
   "execution_count": 109,
   "metadata": {
    "tags": [
     "outputPrepend",
     "outputPrepend",
     "outputPrepend",
     "outputPrepend",
     "outputPrepend",
     "outputPrepend",
     "outputPrepend",
     "outputPrepend",
     "outputPrepend",
     "outputPrepend",
     "outputPrepend",
     "outputPrepend",
     "outputPrepend",
     "outputPrepend",
     "outputPrepend",
     "outputPrepend",
     "outputPrepend",
     "outputPrepend",
     "outputPrepend",
     "outputPrepend",
     "outputPrepend",
     "outputPrepend",
     "outputPrepend",
     "outputPrepend",
     "outputPrepend",
     "outputPrepend",
     "outputPrepend",
     "outputPrepend",
     "outputPrepend",
     "outputPrepend",
     "outputPrepend",
     "outputPrepend",
     "outputPrepend",
     "outputPrepend",
     "outputPrepend",
     "outputPrepend",
     "outputPrepend",
     "outputPrepend",
     "outputPrepend",
     "outputPrepend",
     "outputPrepend",
     "outputPrepend",
     "outputPrepend",
     "outputPrepend",
     "outputPrepend",
     "outputPrepend",
     "outputPrepend",
     "outputPrepend",
     "outputPrepend",
     "outputPrepend",
     "outputPrepend",
     "outputPrepend",
     "outputPrepend",
     "outputPrepend",
     "outputPrepend",
     "outputPrepend",
     "outputPrepend"
    ]
   },
   "outputs": [],
   "source": [
    "sc.direction.loc[sc.direction.isin(sc.direction.value_counts()[5:].index)] = 'No Bound'"
   ]
  },
  {
   "cell_type": "markdown",
   "metadata": {},
   "source": [
    "##### Vehicle\n",
    "\n",
    "- Missing vehicles replaced to 'No Vehicle'"
   ]
  },
  {
   "cell_type": "code",
   "execution_count": 110,
   "metadata": {},
   "outputs": [],
   "source": [
    "sc.loc[sc.vehicle.isna(), 'vehicle'] = 'No Vehicle'"
   ]
  },
  {
   "cell_type": "code",
   "execution_count": 111,
   "metadata": {},
   "outputs": [
    {
     "output_type": "stream",
     "name": "stdout",
     "text": "<class 'pandas.core.frame.DataFrame'>\nInt64Index: 78525 entries, 0 to 11881\nData columns (total 11 columns):\ndate         78525 non-null object\ntime         78525 non-null object\nday          78525 non-null object\nmode         78525 non-null object\nroute        78525 non-null int64\nvehicle      78525 non-null object\nlocation     78525 non-null object\ndirection    78525 non-null object\nincident     78525 non-null object\nmin_delay    78448 non-null float64\nmin_gap      78409 non-null float64\ndtypes: float64(2), int64(1), object(8)\nmemory usage: 7.2+ MB\n"
    }
   ],
   "source": [
    "sc.info()"
   ]
  },
  {
   "cell_type": "markdown",
   "metadata": {},
   "source": [
    "##### Min Delay & Min Gap\n",
    "- For records with no minute delay or gap entries, these are replaced with \"Missing\""
   ]
  },
  {
   "cell_type": "code",
   "execution_count": 112,
   "metadata": {},
   "outputs": [],
   "source": [
    "sc.loc[sc['min_delay'].isna(), 'min_delay'] = \"Missing\"\n",
    "sc.loc[sc['min_gap'].isna(), 'min_gap'] = \"Missing\""
   ]
  },
  {
   "cell_type": "code",
   "execution_count": 113,
   "metadata": {},
   "outputs": [
    {
     "output_type": "stream",
     "name": "stdout",
     "text": "<class 'pandas.core.frame.DataFrame'>\nInt64Index: 78525 entries, 0 to 11881\nData columns (total 11 columns):\ndate         78525 non-null object\ntime         78525 non-null object\nday          78525 non-null object\nmode         78525 non-null object\nroute        78525 non-null int64\nvehicle      78525 non-null object\nlocation     78525 non-null object\ndirection    78525 non-null object\nincident     78525 non-null object\nmin_delay    78525 non-null object\nmin_gap      78525 non-null object\ndtypes: int64(1), object(10)\nmemory usage: 7.2+ MB\n"
    }
   ],
   "source": [
    "sc.to_csv(pt.sc_path_cleaned)\n",
    "sc.info()"
   ]
  },
  {
   "cell_type": "markdown",
   "metadata": {},
   "source": [
    "#### Bus Files\n",
    "\n",
    "Finally, to clean the TTC delay bus files."
   ]
  },
  {
   "cell_type": "code",
   "execution_count": 12,
   "metadata": {},
   "outputs": [
    {
     "output_type": "stream",
     "name": "stdout",
     "text": "<class 'pandas.core.frame.DataFrame'>\nRangeIndex: 449937 entries, 0 to 449936\nData columns (total 11 columns):\ndate         449937 non-null object\ntime         449937 non-null object\nday          449937 non-null object\nmode         449937 non-null object\nroute        449937 non-null int64\nvehicle      383087 non-null float64\nlocation     449163 non-null object\ndirection    440302 non-null object\nincident     449002 non-null object\nmin_delay    449546 non-null float64\nmin_gap      449092 non-null float64\ndtypes: float64(3), int64(1), object(7)\nmemory usage: 37.8+ MB\n"
    }
   ],
   "source": [
    "bus = pd.read_csv(pt.bus_path_processed)\n",
    "\n",
    "bus.columns = map(lambda x: x.lower().replace(' ','_'), bus.columns)\n",
    "bus['mode'] = 'bus'\n",
    "bus = bus[['report_date','time','day','mode','route','vehicle','location','direction','incident','min_delay','min_gap']]\n",
    "bus.columns = ['date','time','day','mode','route','vehicle','location','direction','incident','min_delay','min_gap']\n",
    "\n",
    "bus.info()"
   ]
  },
  {
   "cell_type": "markdown",
   "metadata": {},
   "source": [
    "##### Time\n",
    "\n",
    "- Cleaning inconsistent times --> 'missing time'"
   ]
  },
  {
   "cell_type": "code",
   "execution_count": 13,
   "metadata": {},
   "outputs": [],
   "source": [
    "bus.loc[bus.time.map(len) != 8, 'time'] = 'Missing'"
   ]
  },
  {
   "cell_type": "markdown",
   "metadata": {},
   "source": [
    "##### Vehicle\n",
    "\n",
    "- Flagging missing vehicle numbers "
   ]
  },
  {
   "cell_type": "code",
   "execution_count": 14,
   "metadata": {},
   "outputs": [],
   "source": [
    "bus.loc[bus.vehicle == 0, 'vehicle'] = \"No Vehicle\"\n",
    "bus.loc[bus.vehicle.isna(), 'vehicle'] = \"No Vehicle\""
   ]
  },
  {
   "cell_type": "markdown",
   "metadata": {},
   "source": [
    "##### Location\n",
    "\n",
    "- Convert to lowercase\n",
    "- Remove punctuation & extra spaces\n",
    "- Standardize naming conventions (e.g., 'st' --> 'street', 'dw' --> 'dundas west')\n",
    "\n",
    "After initial cleaning for punctuation & extra spaces, the top ~2,000 locations represent ~70% of the total occurences. For simplicity, these 2,000 locations will be reviewed and standardized further by mapping inconsistent values."
   ]
  },
  {
   "cell_type": "code",
   "execution_count": 15,
   "metadata": {},
   "outputs": [],
   "source": [
    "imp.reload(maps)\n",
    "bus.location = bus.location.str.lower()\n",
    "mapping = maps.bus_locations_mapping\n",
    "\n",
    "for key in mapping.keys():\n",
    "    for value in mapping[key]: \n",
    "       bus.location = bus.location.map(lambda x: str(x).replace(value, key))\n",
    "bus.location = bus.location.map(lambda x: re.sub(r' +', ' ', str(x)))"
   ]
  },
  {
   "cell_type": "code",
   "execution_count": 16,
   "metadata": {},
   "outputs": [
    {
     "output_type": "execute_result",
     "data": {
      "text/plain": "finch station        11074\nkennedy station      10276\nentire                9286\nwarden station        8811\ndownsview station     8273\nkipling station       7423\neglinton station      7397\nwilson station        7324\nstc                   5481\npape station          4957\nName: location, dtype: int64"
     },
     "metadata": {},
     "execution_count": 16
    }
   ],
   "source": [
    "bus.location.value_counts().head(10)"
   ]
  },
  {
   "cell_type": "markdown",
   "metadata": {},
   "source": [
    "##### Direction"
   ]
  },
  {
   "cell_type": "code",
   "execution_count": 17,
   "metadata": {},
   "outputs": [],
   "source": [
    "imp.reload(maps)\n",
    "bus.direction = bus.direction.str.lower()\n",
    "mapping = maps.bus_direction_map\n",
    "\n",
    "for key in mapping.keys():\n",
    "    for value in mapping[key]: \n",
    "       bus.direction = bus.direction.map(lambda x: str(x).replace(value, key))\n",
    "bus.direction = bus.direction.map(lambda x: re.sub(r' +', ' ', str(x)))"
   ]
  },
  {
   "cell_type": "code",
   "execution_count": 18,
   "metadata": {},
   "outputs": [
    {
     "output_type": "execute_result",
     "data": {
      "text/plain": "n           104827\ns            90298\ne            88282\nw            84337\nboth         67180\nNo Bound     15013\nName: direction, dtype: int64"
     },
     "metadata": {},
     "execution_count": 18
    }
   ],
   "source": [
    "no_bounds = bus.direction.value_counts()[5:].index\n",
    "\n",
    "bus.loc[bus['direction'].isin(no_bounds), 'direction'] = 'No Bound'\n",
    "bus.direction.value_counts()"
   ]
  },
  {
   "cell_type": "markdown",
   "metadata": {},
   "source": [
    "##### Min Delay and Gap"
   ]
  },
  {
   "cell_type": "markdown",
   "metadata": {},
   "source": [
    "- Remove outlier misc. delays with negative minute delay/gap values  \n",
    "- Flag missing minute delays/gaps with 'Missing'"
   ]
  },
  {
   "cell_type": "code",
   "execution_count": 19,
   "metadata": {},
   "outputs": [],
   "source": [
    "negative_delays = bus.loc[(bus['min_delay'] < 0) | (bus['min_gap'] < 0)].index\n",
    "bus.drop(negative_delays, inplace = True)\n",
    "\n",
    "bus.loc[bus['min_delay'].isna(), 'min_delay'] = 'Missing'\n",
    "bus.loc[bus['min_gap'].isna(), 'min_gap'] = 'Missing'"
   ]
  },
  {
   "cell_type": "markdown",
   "metadata": {},
   "source": [
    "##### Incident\n",
    "\n",
    "- Flag missing incidents with 'Missing'"
   ]
  },
  {
   "cell_type": "code",
   "execution_count": 20,
   "metadata": {},
   "outputs": [],
   "source": [
    "bus.loc[bus.incident.isna(), 'incident'] = 'Missing'"
   ]
  },
  {
   "cell_type": "code",
   "execution_count": 22,
   "metadata": {},
   "outputs": [
    {
     "output_type": "stream",
     "name": "stdout",
     "text": "<class 'pandas.core.frame.DataFrame'>\nInt64Index: 449926 entries, 0 to 449936\nData columns (total 11 columns):\ndate         449926 non-null object\ntime         449926 non-null object\nday          449926 non-null object\nmode         449926 non-null object\nroute        449926 non-null int64\nvehicle      449926 non-null object\nlocation     449926 non-null object\ndirection    449926 non-null object\nincident     449926 non-null object\nmin_delay    449926 non-null object\nmin_gap      449926 non-null object\ndtypes: int64(1), object(10)\nmemory usage: 41.2+ MB\n"
    }
   ],
   "source": [
    "bus.to_csv(pt.bus_path_cleaned)\n",
    "bus.info()"
   ]
  }
 ],
 "metadata": {
  "language_info": {
   "codemirror_mode": {
    "name": "ipython",
    "version": 3
   },
   "file_extension": ".py",
   "mimetype": "text/x-python",
   "name": "python",
   "nbconvert_exporter": "python",
   "pygments_lexer": "ipython3",
   "version": "3.7.3-final"
  },
  "orig_nbformat": 2,
  "kernelspec": {
   "name": "python37364bitanaconda3conda904aa9cf9021458bafe43804b25cd04e",
   "display_name": "Python 3.7.3 64-bit ('Anaconda3': conda)"
  }
 },
 "nbformat": 4,
 "nbformat_minor": 2
}