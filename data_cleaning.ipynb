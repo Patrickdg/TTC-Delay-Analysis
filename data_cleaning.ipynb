{
 "cells": [
  {
   "cell_type": "markdown",
   "metadata": {},
   "source": [
    "# Data Cleaning & Processing\n",
    " "
   ]
  },
  {
   "cell_type": "markdown",
   "metadata": {},
   "source": [
    "This report outlines the steps taken to clean the following data sets:\n",
    "\n",
    "- Open Toronto Data: TTC Subway, Streetcar, & Bus Delay data sets\n",
    "- Open Toronto Data: TTC Ridership data\n",
    "- Canada Historical Weather data\n",
    "\n",
    "We will perform the following steps to process & clean the data into its final form for analysis: \n",
    "\n",
    "1. General data review\n",
    "2. Data compilation/consolidation ('raw' --> 'processed')\n",
    "3. Data cleaning ('processed' --> 'clean_final')"
   ]
  },
  {
   "cell_type": "markdown",
   "metadata": {},
   "source": [
    "## 1. General Data Review\n",
    "\n",
    "### TTC Delay Data\n",
    "\n",
    "Toronto's open data portal does not currently have information regarding the data collection methods used for delay data (e.g., who records instances, how frequently, how manual or automated the process is). \n",
    "\n",
    "We assume that the delay data contains all known delays in the TTC during the time period for which data is collected for. \n",
    "\n",
    "The data for all modes of transportation contain the following features: \n"
   ]
  },
  {
   "cell_type": "code",
   "execution_count": 30,
   "metadata": {},
   "outputs": [
    {
     "output_type": "execute_result",
     "data": {
      "text/plain": "    Field Name                                        Description  \\\n0  Report Date  The date (YYYY/MM/DD) when the delay-causing i...   \n1        Route                  The number of the streetcar route   \n2         Time  The time (hh:mm:ss AM/PM) when the delay-causi...   \n3          Day                                The name of the day   \n4     Location         The location of the delay-causing incident   \n5     Incident      The description of the delay-causing incident   \n6    Min Delay  The delay, in minutes, to the schedule for the...   \n7      Min Gap  The total scheduled time, in minutes, from the...   \n8    Direction  The direction of the bus route where B,b or BW...   \n9      Vehicle                                     Vehicle number   \n\n               Example  \n0  2017-06-20 00:00:00  \n1                   51  \n2             00:35:00  \n3               Monday  \n4   York Mills Station  \n5           Mechanical  \n6                   10  \n7                   20  \n8                    N  \n9                 1057  ",
      "text/html": "<div>\n<style scoped>\n    .dataframe tbody tr th:only-of-type {\n        vertical-align: middle;\n    }\n\n    .dataframe tbody tr th {\n        vertical-align: top;\n    }\n\n    .dataframe thead th {\n        text-align: right;\n    }\n</style>\n<table border=\"1\" class=\"dataframe\">\n  <thead>\n    <tr style=\"text-align: right;\">\n      <th></th>\n      <th>Field Name</th>\n      <th>Description</th>\n      <th>Example</th>\n    </tr>\n  </thead>\n  <tbody>\n    <tr>\n      <td>0</td>\n      <td>Report Date</td>\n      <td>The date (YYYY/MM/DD) when the delay-causing i...</td>\n      <td>2017-06-20 00:00:00</td>\n    </tr>\n    <tr>\n      <td>1</td>\n      <td>Route</td>\n      <td>The number of the streetcar route</td>\n      <td>51</td>\n    </tr>\n    <tr>\n      <td>2</td>\n      <td>Time</td>\n      <td>The time (hh:mm:ss AM/PM) when the delay-causi...</td>\n      <td>00:35:00</td>\n    </tr>\n    <tr>\n      <td>3</td>\n      <td>Day</td>\n      <td>The name of the day</td>\n      <td>Monday</td>\n    </tr>\n    <tr>\n      <td>4</td>\n      <td>Location</td>\n      <td>The location of the delay-causing incident</td>\n      <td>York Mills Station</td>\n    </tr>\n    <tr>\n      <td>5</td>\n      <td>Incident</td>\n      <td>The description of the delay-causing incident</td>\n      <td>Mechanical</td>\n    </tr>\n    <tr>\n      <td>6</td>\n      <td>Min Delay</td>\n      <td>The delay, in minutes, to the schedule for the...</td>\n      <td>10</td>\n    </tr>\n    <tr>\n      <td>7</td>\n      <td>Min Gap</td>\n      <td>The total scheduled time, in minutes, from the...</td>\n      <td>20</td>\n    </tr>\n    <tr>\n      <td>8</td>\n      <td>Direction</td>\n      <td>The direction of the bus route where B,b or BW...</td>\n      <td>N</td>\n    </tr>\n    <tr>\n      <td>9</td>\n      <td>Vehicle</td>\n      <td>Vehicle number</td>\n      <td>1057</td>\n    </tr>\n  </tbody>\n</table>\n</div>"
     },
     "metadata": {},
     "execution_count": 30
    }
   ],
   "source": [
    "import src.paths as pt\n",
    "import imp \n",
    "imp.reload(pt)\n",
    "pd.read_excel(pt.sc_readme)"
   ]
  },
  {
   "cell_type": "markdown",
   "metadata": {},
   "source": [
    "Notes: \n",
    "- In the subway delay data, the 'Incident' feature is denoted as 'Code', with a separate code book mapping the codes to their respective delay details.  \n",
    "- In addition, the 'Location' featured is labelled 'Station' as subway delays typically occur at particular stations (as opposed to bus/streetcar delays potentially occuring at specific intersections between stops).  \n",
    "- 'Direction' is also labelled as 'Bound'. "
   ]
  },
  {
   "cell_type": "markdown",
   "metadata": {},
   "source": [
    "### TTC Ridership Data\n",
    "\n",
    "The dataset, reported by the TTC, tracks the passengers on the transit system and is shared every quarter. \n",
    "\n",
    "The extracted data includes the following features for each year + month from 2007 onwards (see README for data extraction process/parameters): \n",
    "\n",
    "- Average Weekday Ridership  \n",
    "- Monthy Ridership"
   ]
  },
  {
   "cell_type": "markdown",
   "metadata": {},
   "source": [
    "### Toronto Weather Data\n",
    "\n",
    "The weather data set is extracted from the [Canada Weather Stats website](weatherstats.ca) which obtains data directly from [Environment and Climate Change Canada](https://weather.gc.ca/).\n",
    "\n",
    "Both hourly and daily data sets are extracted to allow for extra granularity (hourly), but also snow and rain measures (daily, as these features are not present in the hourly data).\n",
    "\n",
    "The hourly dataset contains the following features: "
   ]
  },
  {
   "cell_type": "code",
   "execution_count": 40,
   "metadata": {},
   "outputs": [
    {
     "output_type": "stream",
     "name": "stdout",
     "text": "<class 'pandas.core.frame.DataFrame'>\nRangeIndex: 60000 entries, 0 to 59999\nData columns (total 19 columns):\ndate_time_local      60000 non-null object\nunixtime             60000 non-null int64\npressure_station     59971 non-null float64\npressure_sea         59971 non-null float64\nwind_dir             57248 non-null object\nwind_dir_10s         59947 non-null float64\nwind_speed           59973 non-null float64\nwind_gust            13580 non-null float64\nrelative_humidity    59964 non-null float64\ndew_point            59966 non-null float64\ntemperature          59973 non-null float64\nwindchill            14191 non-null float64\nhumidex              9722 non-null float64\nvisibility           59975 non-null float64\nhealth_index         59428 non-null float64\ncloud_cover_4        0 non-null float64\ncloud_cover_8        56536 non-null float64\ncloud_cover_10       0 non-null float64\nsolar_radiation      0 non-null float64\ndtypes: float64(16), int64(1), object(2)\nmemory usage: 8.7+ MB\n"
    }
   ],
   "source": [
    "hourly = pd.read_csv(pt.hourly_weather_path)\n",
    "hourly.info()"
   ]
  },
  {
   "cell_type": "markdown",
   "metadata": {},
   "source": [
    "The daily dataset contains similar features, with additional aggregate features (e.g., avg, min, max) as well as snow and rain: "
   ]
  },
  {
   "cell_type": "code",
   "execution_count": 41,
   "metadata": {},
   "outputs": [
    {
     "output_type": "stream",
     "name": "stdout",
     "text": "<class 'pandas.core.frame.DataFrame'>\nRangeIndex: 2400 entries, 0 to 2399\nData columns (total 70 columns):\ndate                             2400 non-null object\nmax_temperature                  2400 non-null float64\navg_hourly_temperature           2400 non-null float64\navg_temperature                  2400 non-null float64\nmin_temperature                  2400 non-null float64\nmax_humidex                      626 non-null float64\nmin_windchill                    862 non-null float64\nmax_relative_humidity            2400 non-null int64\navg_hourly_relative_humidity     2400 non-null float64\navg_relative_humidity            2400 non-null float64\nmin_relative_humidity            2400 non-null int64\nmax_dew_point                    2400 non-null float64\navg_hourly_dew_point             2400 non-null float64\navg_dew_point                    2400 non-null float64\nmin_dew_point                    2400 non-null float64\nmax_wind_speed                   2400 non-null int64\navg_hourly_wind_speed            2400 non-null float64\navg_wind_speed                   2400 non-null float64\nmin_wind_speed                   2400 non-null int64\nmax_wind_gust                    1998 non-null float64\nwind_gust_dir_10s                1998 non-null float64\nmax_pressure_sea                 2400 non-null float64\navg_hourly_pressure_sea          2400 non-null float64\navg_pressure_sea                 2400 non-null float64\nmin_pressure_sea                 2400 non-null float64\nmax_pressure_station             2400 non-null float64\navg_hourly_pressure_station      2400 non-null float64\navg_pressure_station             2400 non-null float64\nmin_pressure_station             2400 non-null float64\nmax_visibility                   2400 non-null int64\navg_hourly_visibility            2400 non-null float64\navg_visibility                   2400 non-null int64\nmin_visibility                   2400 non-null int64\nmax_health_index                 2399 non-null float64\navg_hourly_health_index          2399 non-null float64\navg_health_index                 2399 non-null float64\nmin_health_index                 2399 non-null float64\nheatdegdays                      2400 non-null float64\ncooldegdays                      2400 non-null float64\ngrowdegdays_5                    2400 non-null float64\ngrowdegdays_7                    2400 non-null float64\ngrowdegdays_10                   2400 non-null float64\nprecipitation                    2385 non-null float64\nrain                             2382 non-null float64\nsnow                             2390 non-null float64\nsnow_on_ground                   679 non-null float64\nsunrise                          2306 non-null object\nsunset                           2306 non-null object\ndaylight                         2306 non-null float64\nsunrise_f                        2306 non-null float64\nsunset_f                         2306 non-null float64\nmin_uv_forecast                  1689 non-null float64\nmax_uv_forecast                  1689 non-null float64\nmin_high_temperature_forecast    2306 non-null float64\nmax_high_temperature_forecast    2306 non-null float64\nmin_low_temperature_forecast     2306 non-null float64\nmax_low_temperature_forecast     2306 non-null float64\nsolar_radiation                  0 non-null float64\nmax_cloud_cover_4                0 non-null float64\navg_hourly_cloud_cover_4         0 non-null float64\navg_cloud_cover_4                0 non-null float64\nmin_cloud_cover_4                0 non-null float64\nmax_cloud_cover_8                2390 non-null float64\navg_hourly_cloud_cover_8         2390 non-null float64\navg_cloud_cover_8                2390 non-null float64\nmin_cloud_cover_8                2390 non-null float64\nmax_cloud_cover_10               0 non-null float64\navg_hourly_cloud_cover_10        0 non-null float64\navg_cloud_cover_10               0 non-null float64\nmin_cloud_cover_10               0 non-null float64\ndtypes: float64(60), int64(7), object(3)\nmemory usage: 1.3+ MB\n"
    }
   ],
   "source": [
    "daily = pd.read_csv(pt.daily_weather_path)\n",
    "daily.info()"
   ]
  },
  {
   "cell_type": "markdown",
   "metadata": {},
   "source": [
    "## 2. Data Compiling/Consolidation\n",
    "### TTC Delay Data\n",
    "The TTC delay data files have been compiled into their processed forms from the 'data_compiling.py' script in this repository. A few notes regarding the compilation steps taken: \n",
    "\n",
    "#### Subway Files\n",
    "\n",
    "- Files are split by Month and Year of delay record. \n",
    "- Data for Jan 2014-April 2017 is stored in a single file, stacked in a single sheet. Therefore, we keep this as is and continue to stack all months of data together for analysis. \n",
    "- README and delay codes files moved into a separate 'docs' folder. \n",
    "\n",
    "#### Streetcar & Bus Files\n",
    "\n",
    "- Files are split by Year only, with individual sheets containing each month of data (in comparison to Subway data files). Therefore, slightly modified method of compiling streetcar & bus data was used to first concatenate sheets, then concatenate workbooks.\n",
    "- Inconsistencies were present in column names for the following: \n",
    "    1. Streetcar: Inconsistent columns 'Delay', 'Gap' were merged to more conventional 'Min Delay' and 'Min Gap' columns. 'Incident ID' column removed.\n",
    "    2. Bus: Inconsistent columns 'Delay'/' Min Delay', 'Gap' were merged to more conventional 'Min Delay' and 'Min Gap' columns 'Incident ID' column removed.\n",
    "\n",
    "Processed, pre-cleaned files are saved in their respective 'data/processed/ttc' folders.\n",
    "\n",
    "### TTC Ridership Data\n",
    "The ridership data is kept in melted format. For analysis purposes, the data is pivoted/unmelted within the 'data_compiling.py' script and is stored in the 'data/processed/ridership' folder.\n",
    "\n",
    "### Weather Data\n",
    "No additional compilation or formatting is required to prepare the data files for cleaning. These files will be kept in the 'data/raw/weather' folder until final cleaning is performed."
   ]
  },
  {
   "cell_type": "markdown",
   "metadata": {},
   "source": [
    "### Libraries"
   ]
  },
  {
   "cell_type": "code",
   "execution_count": 3,
   "metadata": {},
   "outputs": [],
   "source": [
    "import os\n",
    "import pandas as pd \n",
    "import numpy as np"
   ]
  },
  {
   "cell_type": "markdown",
   "metadata": {},
   "source": [
    "## Cleaning\n",
    "\n",
    "Below are the general steps taken to clean the data: \n",
    "\n",
    "- Check for missing values: \n",
    "    - Impute if necessary, \n",
    "    - Remove records if critical feature missing, \n",
    "\n",
    "### TTC Delay Data\n",
    "#### Subway Files \n"
   ]
  },
  {
   "cell_type": "code",
   "execution_count": 22,
   "metadata": {},
   "outputs": [
    {
     "output_type": "execute_result",
     "data": {
      "text/plain": "         Date   Time     Day                Station   Code  Min Delay  \\\n0  2018-04-01  00:27  Sunday   ST GEORGE BD STATION  MUSAN          8   \n1  2018-04-01  07:56  Sunday          FINCH STATION   TUSC          0   \n2  2018-04-01  08:00  Sunday  YONGE UNIVERSITY LINE    MUO          0   \n3  2018-04-01  09:50  Sunday        KIPLING STATION   TUSC          0   \n4  2018-04-01  10:18  Sunday  VICTORIA PARK STATION   MUSC          0   \n\n   Min Gap Bound Line  Vehicle  \n0       12     W   BD     5256  \n1        0     S   YU     5751  \n2        0   NaN   YU        0  \n3        0     W   BD     5139  \n4        0     W   BD     5354  ",
      "text/html": "<div>\n<style scoped>\n    .dataframe tbody tr th:only-of-type {\n        vertical-align: middle;\n    }\n\n    .dataframe tbody tr th {\n        vertical-align: top;\n    }\n\n    .dataframe thead th {\n        text-align: right;\n    }\n</style>\n<table border=\"1\" class=\"dataframe\">\n  <thead>\n    <tr style=\"text-align: right;\">\n      <th></th>\n      <th>Date</th>\n      <th>Time</th>\n      <th>Day</th>\n      <th>Station</th>\n      <th>Code</th>\n      <th>Min Delay</th>\n      <th>Min Gap</th>\n      <th>Bound</th>\n      <th>Line</th>\n      <th>Vehicle</th>\n    </tr>\n  </thead>\n  <tbody>\n    <tr>\n      <td>0</td>\n      <td>2018-04-01</td>\n      <td>00:27</td>\n      <td>Sunday</td>\n      <td>ST GEORGE BD STATION</td>\n      <td>MUSAN</td>\n      <td>8</td>\n      <td>12</td>\n      <td>W</td>\n      <td>BD</td>\n      <td>5256</td>\n    </tr>\n    <tr>\n      <td>1</td>\n      <td>2018-04-01</td>\n      <td>07:56</td>\n      <td>Sunday</td>\n      <td>FINCH STATION</td>\n      <td>TUSC</td>\n      <td>0</td>\n      <td>0</td>\n      <td>S</td>\n      <td>YU</td>\n      <td>5751</td>\n    </tr>\n    <tr>\n      <td>2</td>\n      <td>2018-04-01</td>\n      <td>08:00</td>\n      <td>Sunday</td>\n      <td>YONGE UNIVERSITY LINE</td>\n      <td>MUO</td>\n      <td>0</td>\n      <td>0</td>\n      <td>NaN</td>\n      <td>YU</td>\n      <td>0</td>\n    </tr>\n    <tr>\n      <td>3</td>\n      <td>2018-04-01</td>\n      <td>09:50</td>\n      <td>Sunday</td>\n      <td>KIPLING STATION</td>\n      <td>TUSC</td>\n      <td>0</td>\n      <td>0</td>\n      <td>W</td>\n      <td>BD</td>\n      <td>5139</td>\n    </tr>\n    <tr>\n      <td>4</td>\n      <td>2018-04-01</td>\n      <td>10:18</td>\n      <td>Sunday</td>\n      <td>VICTORIA PARK STATION</td>\n      <td>MUSC</td>\n      <td>0</td>\n      <td>0</td>\n      <td>W</td>\n      <td>BD</td>\n      <td>5354</td>\n    </tr>\n  </tbody>\n</table>\n</div>"
     },
     "metadata": {},
     "execution_count": 22
    }
   ],
   "source": [
    "sub = pd.read_csv(sub_path_processed, index_col = 0)\n",
    "sub.head()"
   ]
  },
  {
   "cell_type": "code",
   "execution_count": null,
   "metadata": {},
   "outputs": [],
   "source": []
  }
 ],
 "metadata": {
  "language_info": {
   "codemirror_mode": {
    "name": "ipython",
    "version": 3
   },
   "file_extension": ".py",
   "mimetype": "text/x-python",
   "name": "python",
   "nbconvert_exporter": "python",
   "pygments_lexer": "ipython3",
   "version": "3.7.4-final"
  },
  "orig_nbformat": 2,
  "kernelspec": {
   "name": "python37464bit9a2000fb83cb4623880ac38e10c93e2e",
   "display_name": "Python 3.7.4 64-bit"
  }
 },
 "nbformat": 4,
 "nbformat_minor": 2
}