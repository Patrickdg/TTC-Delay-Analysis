{
 "cells": [
  {
   "cell_type": "markdown",
   "metadata": {},
   "source": [
    "# Data Cleaning & Processing\n",
    " "
   ]
  },
  {
   "cell_type": "markdown",
   "metadata": {},
   "source": [
    "The following outlines the steps taken to clean the following data sets:\n",
    "\n",
    "- Open Toronto Data: TTC Subway, Streetcar, & Bus Delay data sets\n",
    "- Open Toronto Data: TTC Ridership data\n",
    "- Canada Historical Weather data"
   ]
  },
  {
   "cell_type": "markdown",
   "metadata": {},
   "source": [
    "### Libraries"
   ]
  },
  {
   "cell_type": "code",
   "execution_count": 24,
   "metadata": {},
   "outputs": [],
   "source": [
    "import pandas as pd \n",
    "import numpy as np\n",
    "import os"
   ]
  },
  {
   "cell_type": "markdown",
   "metadata": {},
   "source": [
    "## Pre-cleaning Data Compilation\n",
    "### TTC Delay Data\n",
    "The TTC delay data files have been compiled into their processed forms from the 'data_compiling.py' script in this repository. A few notes regarding the compilation steps taken: \n",
    "\n",
    "#### Subway Files\n",
    "\n",
    "- Files are split by Month and Year of delay record. \n",
    "- Data for Jan 2014-April 2017 is stored in a single file, stacked in a single sheet. Therefore, we keep this as is and continue to stack all months of data together for analysis. \n",
    "- README and delay codes files moved into a separate 'docs' folder. \n",
    "\n",
    "#### Streetcar & Bus Files\n",
    "\n",
    "- Files are split by Year only, with individual sheets containing each month of data (in comparison to Subway data files). Therefore, slightly modified method of compiling streetcar & bus data was used to first concatenate sheets, then concatenate workbooks.\n",
    "- Inconsistencies were present in column names for the following: \n",
    "    1. Streetcar: Inconsistent columns 'Delay', 'Gap' were merged to more conventional 'Min Delay' and 'Min Gap' columns. 'Incident ID' column removed.\n",
    "    2. Bus: Inconsistent columns 'Delay'/' Min Delay', 'Gap' were merged to more conventional 'Min Delay' and 'Min Gap' columns 'Incident ID' column removed.\n",
    "\n",
    "Processed, pre-cleaned files are saved in their respective 'data/processed/ttc' folders.\n",
    "\n",
    "### TTC Ridership Data\n",
    "The ridership data is kept in melted format. For analysis purposes, the data is pivoted/unmelted within the 'data_compiling.py' script and is stored in the 'data/processed/ridership' folder.\n",
    "\n",
    "### Weather Data\n",
    "No additional compilation is required to prepare the data files for cleaning. These files are simply moved to their respective 'processed' folder."
   ]
  }
 ],
 "metadata": {
  "language_info": {
   "codemirror_mode": {
    "name": "ipython",
    "version": 3
   },
   "file_extension": ".py",
   "mimetype": "text/x-python",
   "name": "python",
   "nbconvert_exporter": "python",
   "pygments_lexer": "ipython3",
   "version": "3.7.4-final"
  },
  "orig_nbformat": 2,
  "kernelspec": {
   "name": "python37464bit9a2000fb83cb4623880ac38e10c93e2e",
   "display_name": "Python 3.7.4 64-bit"
  }
 },
 "nbformat": 4,
 "nbformat_minor": 2
}