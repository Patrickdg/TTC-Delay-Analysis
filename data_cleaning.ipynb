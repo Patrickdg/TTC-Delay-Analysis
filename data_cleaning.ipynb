{
 "cells": [
  {
   "cell_type": "markdown",
   "metadata": {},
   "source": [
    "# Data Processing & Cleaning\n",
    " "
   ]
  },
  {
   "cell_type": "markdown",
   "metadata": {},
   "source": [
    "This report outlines the steps taken to clean the following data sets:\n",
    "\n",
    "- Open Toronto Data: TTC Subway, Streetcar, & Bus Delay data sets\n",
    "- Open Toronto Data: TTC Ridership data\n",
    "- Canada Historical Weather data\n",
    "\n",
    "We will perform the following steps to process & clean the data into its final form for analysis: \n",
    "\n",
    "1. General data review\n",
    "2. Data compilation/consolidation ('raw' --> 'processed')\n",
    "3. Data cleaning ('processed' --> 'clean_final')"
   ]
  },
  {
   "cell_type": "markdown",
   "metadata": {},
   "source": [
    "## 1. General Data Review\n",
    "\n",
    "### TTC Delay Data\n",
    "\n",
    "Toronto's open data portal does not currently have information regarding the data collection methods used for delay data (e.g., who records instances, how frequently, how manual or automated the process is). \n",
    "\n",
    "We assume that the delay data contains all known delays in the TTC during the time period for which data is collected for. \n",
    "\n",
    "The data for all modes of transportation contain the following features: \n"
   ]
  },
  {
   "cell_type": "code",
   "execution_count": 223,
   "metadata": {},
   "outputs": [
    {
     "output_type": "execute_result",
     "data": {
      "text/plain": "    Field Name                                        Description  \\\n0  Report Date  The date (YYYY/MM/DD) when the delay-causing i...   \n1        Route                  The number of the streetcar route   \n2         Time  The time (hh:mm:ss AM/PM) when the delay-causi...   \n3          Day                                The name of the day   \n4     Location         The location of the delay-causing incident   \n5     Incident      The description of the delay-causing incident   \n6    Min Delay  The delay, in minutes, to the schedule for the...   \n7      Min Gap  The total scheduled time, in minutes, from the...   \n8    Direction  The direction of the bus route where B,b or BW...   \n9      Vehicle                                     Vehicle number   \n\n               Example  \n0  2017-06-20 00:00:00  \n1                   51  \n2             00:35:00  \n3               Monday  \n4   York Mills Station  \n5           Mechanical  \n6                   10  \n7                   20  \n8                    N  \n9                 1057  ",
      "text/html": "<div>\n<style scoped>\n    .dataframe tbody tr th:only-of-type {\n        vertical-align: middle;\n    }\n\n    .dataframe tbody tr th {\n        vertical-align: top;\n    }\n\n    .dataframe thead th {\n        text-align: right;\n    }\n</style>\n<table border=\"1\" class=\"dataframe\">\n  <thead>\n    <tr style=\"text-align: right;\">\n      <th></th>\n      <th>Field Name</th>\n      <th>Description</th>\n      <th>Example</th>\n    </tr>\n  </thead>\n  <tbody>\n    <tr>\n      <td>0</td>\n      <td>Report Date</td>\n      <td>The date (YYYY/MM/DD) when the delay-causing i...</td>\n      <td>2017-06-20 00:00:00</td>\n    </tr>\n    <tr>\n      <td>1</td>\n      <td>Route</td>\n      <td>The number of the streetcar route</td>\n      <td>51</td>\n    </tr>\n    <tr>\n      <td>2</td>\n      <td>Time</td>\n      <td>The time (hh:mm:ss AM/PM) when the delay-causi...</td>\n      <td>00:35:00</td>\n    </tr>\n    <tr>\n      <td>3</td>\n      <td>Day</td>\n      <td>The name of the day</td>\n      <td>Monday</td>\n    </tr>\n    <tr>\n      <td>4</td>\n      <td>Location</td>\n      <td>The location of the delay-causing incident</td>\n      <td>York Mills Station</td>\n    </tr>\n    <tr>\n      <td>5</td>\n      <td>Incident</td>\n      <td>The description of the delay-causing incident</td>\n      <td>Mechanical</td>\n    </tr>\n    <tr>\n      <td>6</td>\n      <td>Min Delay</td>\n      <td>The delay, in minutes, to the schedule for the...</td>\n      <td>10</td>\n    </tr>\n    <tr>\n      <td>7</td>\n      <td>Min Gap</td>\n      <td>The total scheduled time, in minutes, from the...</td>\n      <td>20</td>\n    </tr>\n    <tr>\n      <td>8</td>\n      <td>Direction</td>\n      <td>The direction of the bus route where B,b or BW...</td>\n      <td>N</td>\n    </tr>\n    <tr>\n      <td>9</td>\n      <td>Vehicle</td>\n      <td>Vehicle number</td>\n      <td>1057</td>\n    </tr>\n  </tbody>\n</table>\n</div>"
     },
     "metadata": {},
     "execution_count": 223
    }
   ],
   "source": [
    "import src.paths as pt\n",
    "import imp \n",
    "imp.reload(pt)\n",
    "pd.read_excel(pt.sc_readme)"
   ]
  },
  {
   "cell_type": "markdown",
   "metadata": {},
   "source": [
    "**Notes:**  \n",
    "- In the subway delay data, the 'Incident' feature is denoted as 'Code', with a separate code book mapping the codes to their respective delay details.  \n",
    "- In addition, the 'Location' featured is labelled 'Station' as subway delays typically occur at particular stations (as opposed to bus/streetcar delays potentially occuring at specific intersections between stops).  \n",
    "- 'Direction' is also labelled as 'Bound'. "
   ]
  },
  {
   "cell_type": "markdown",
   "metadata": {},
   "source": [
    "### TTC Ridership Data\n",
    "\n",
    "The dataset, reported by the TTC, tracks the passengers on the transit system and is shared every quarter. \n",
    "\n",
    "The extracted data includes the following features for each year + month from 2007 onwards (see README for data extraction process/parameters): \n",
    "\n",
    "- Average Weekday Ridership  \n",
    "- Monthy Ridership"
   ]
  },
  {
   "cell_type": "markdown",
   "metadata": {},
   "source": [
    "### Toronto Weather Data\n",
    "\n",
    "The weather data set is extracted from the [Canada Weather Stats website](weatherstats.ca) which obtains data directly from [Environment and Climate Change Canada](https://weather.gc.ca/).\n",
    "\n",
    "Both hourly and daily data sets are extracted to allow for extra granularity (hourly), but also snow and rain measures (daily, as these features are not present in the hourly data).\n",
    "\n",
    "The hourly dataset contains the following features: "
   ]
  },
  {
   "cell_type": "code",
   "execution_count": 224,
   "metadata": {},
   "outputs": [
    {
     "output_type": "stream",
     "name": "stdout",
     "text": "<class 'pandas.core.frame.DataFrame'>\nRangeIndex: 60000 entries, 0 to 59999\nData columns (total 19 columns):\ndate_time_local      60000 non-null object\nunixtime             60000 non-null int64\npressure_station     59971 non-null float64\npressure_sea         59971 non-null float64\nwind_dir             57248 non-null object\nwind_dir_10s         59947 non-null float64\nwind_speed           59973 non-null float64\nwind_gust            13580 non-null float64\nrelative_humidity    59964 non-null float64\ndew_point            59966 non-null float64\ntemperature          59973 non-null float64\nwindchill            14191 non-null float64\nhumidex              9722 non-null float64\nvisibility           59975 non-null float64\nhealth_index         59428 non-null float64\ncloud_cover_4        0 non-null float64\ncloud_cover_8        56536 non-null float64\ncloud_cover_10       0 non-null float64\nsolar_radiation      0 non-null float64\ndtypes: float64(16), int64(1), object(2)\nmemory usage: 8.7+ MB\n"
    }
   ],
   "source": [
    "hourly = pd.read_csv(pt.hourly_weather_path)\n",
    "hourly.info()"
   ]
  },
  {
   "cell_type": "markdown",
   "metadata": {},
   "source": [
    "The daily dataset contains the same features, with columns for aggregates of the features (e.g., avg, min, max) as well as additional features including:  \n",
    "\n",
    "- Snow  \n",
    "- Rain  \n",
    "- Sunrise  \n",
    "- Sunset  \n",
    "- Daylight "
   ]
  },
  {
   "cell_type": "markdown",
   "metadata": {},
   "source": [
    "## 2. Data Compiling/Consolidation\n",
    "### TTC Delay Data\n",
    "The TTC delay data files have been compiled into their processed forms from the 'data_compiling.py' script in this repository. A few notes regarding the compilation steps taken: \n",
    "\n",
    "#### Subway Files\n",
    "\n",
    "- Files are split by Month and Year of delay record. \n",
    "- Data for Jan 2014-April 2017 is stored in a single file, stacked in a single sheet. Therefore, we keep this as is and continue to stack all months of data together for analysis. \n",
    "- README and delay codes files moved into a separate 'docs' folder.  \n",
    "- For simplicity, the raw delay code book file for subway data was reformatted to stack all codes into a single table.  \n",
    "\n",
    "#### Streetcar & Bus Files\n",
    "\n",
    "- Files are split by Year only, with individual sheets containing each month of data (in comparison to Subway data files). Therefore, slightly modified method of compiling streetcar & bus data was used to first concatenate sheets, then concatenate workbooks.\n",
    "- Inconsistencies were present in column names for the following: \n",
    "    1. Streetcar: Inconsistent columns 'Delay', 'Gap' were merged to more conventional 'Min Delay' and 'Min Gap' columns. 'Incident ID' column removed.\n",
    "    2. Bus: Inconsistent columns 'Delay'/' Min Delay', 'Gap' were merged to more conventional 'Min Delay' and 'Min Gap' columns 'Incident ID' column removed.\n",
    "\n",
    "Processed, pre-cleaned files are saved in their respective 'data/processed/ttc' folders.\n",
    "\n",
    "### TTC Ridership Data\n",
    "The ridership data is kept in melted format. For analysis purposes, the data is pivoted/unmelted within the 'data_compiling.py' script and is stored in the 'data/processed/ridership' folder.\n",
    "\n",
    "### Weather Data\n",
    "No additional compilation or formatting is required to prepare the data files for cleaning. These files will be kept in the 'data/raw/weather' folder until final cleaning is performed."
   ]
  },
  {
   "cell_type": "markdown",
   "metadata": {},
   "source": [
    "### Libraries"
   ]
  },
  {
   "cell_type": "code",
   "execution_count": 225,
   "metadata": {},
   "outputs": [],
   "source": [
    "import os\n",
    "import pandas as pd \n",
    "import numpy as np"
   ]
  },
  {
   "cell_type": "markdown",
   "metadata": {},
   "source": [
    "## Cleaning\n",
    "\n",
    "Below are the general steps taken to clean the data: \n",
    "\n",
    "- Inspection: types, summaries, counts, outliers\n",
    "- Cleaning: \n",
    "    - Remove irrelevant data if necessary  \n",
    "    - Data types\n",
    "    - Check for duplicates\n",
    "    - Syntax, typos (re-mapping)\n",
    "    - Check for missing values: \n",
    "        - Remove records if random or rare occurences, \n",
    "        - Impute, \n",
    "        - Flag \"missing\"\n",
    "    - Scaling/Transformations/Normalization if necessary \n",
    "    - Review outliers and determine keep/remove\n",
    "\n",
    "### TTC Delay Data\n",
    "#### Subway Files \n",
    "\n",
    "Using the subway delay code book, we will map the Delay Codes to their respective descriptions for better analysis of the data. "
   ]
  },
  {
   "cell_type": "code",
   "execution_count": 226,
   "metadata": {},
   "outputs": [],
   "source": [
    "sub = pd.read_csv(sub_path_processed, index_col = 0)\n",
    "codes = pd.read_excel(pt.sub_delay_codes)\n",
    "\n",
    "sub = sub.merge(codes, how = 'left', left_on = 'Code', right_on = 'CODE')\n",
    "\n",
    "sub.columns = map(lambda x: x.lower().replace(' ','_'), sub.columns)\n",
    "sub.drop('unnamed:_0', axis = 1, inplace = True)"
   ]
  },
  {
   "cell_type": "code",
   "execution_count": 227,
   "metadata": {},
   "outputs": [
    {
     "output_type": "stream",
     "name": "stdout",
     "text": "<class 'pandas.core.frame.DataFrame'>\nInt64Index: 121904 entries, 0 to 121903\nData columns (total 12 columns):\ndate           121904 non-null object\ntime           121904 non-null object\nday            121904 non-null object\nstation        121904 non-null object\ncode           121903 non-null object\nmin_delay      121904 non-null int64\nmin_gap        121904 non-null int64\nbound          95292 non-null object\nline           121435 non-null object\nvehicle        121904 non-null int64\ncode           119249 non-null object\ndescription    119249 non-null object\ndtypes: int64(3), object(9)\nmemory usage: 12.1+ MB\n"
    }
   ],
   "source": [
    "sub.info()"
   ]
  },
  {
   "cell_type": "markdown",
   "metadata": {},
   "source": [
    "First, we'll review why there are ~25,000 missing records in the 'bound' column. "
   ]
  },
  {
   "cell_type": "code",
   "execution_count": 228,
   "metadata": {},
   "outputs": [
    {
     "output_type": "execute_result",
     "data": {
      "text/plain": "Injured or ill Customer (In Station) - Transported            0.222429\nMiscellaneous General Delays                                  0.206627\nMiscellaneous Other                                           0.167163\nEscalator/Elevator Incident                                   0.114834\nInjured or ill Customer (In Station) - Medical Aid Refused    0.044387\nStation Stairway Incident                                     0.040457\nDisorderly Patron                                             0.029660\nInjured or ill Customer (On Train) - Transported              0.019442\nAssault / Patron Involved                                     0.016671\nStation Other                                                 0.016505\nName: description, dtype: float64"
     },
     "metadata": {},
     "execution_count": 228
    }
   ],
   "source": [
    "no_bound = sub['bound'].isna()\n",
    "sub.loc[no_bound].description.value_counts(normalize = True).head(10)"
   ]
  },
  {
   "cell_type": "markdown",
   "metadata": {},
   "source": [
    "The majority of the records with missing bound/direction values occured in station or are 'miscellaneous' delays (of which we do not have information on what this bucket entails). However, given that these records represent a large portion of the total dataset (and likely of the 'miscellaneous' variety), we will keep these records in and denote them as 'No Bound'.  \n",
    "\n",
    "We will also remove records whose value appears to be a typo (i.e., *not* N, E, S, or W, as there is no readme information on any other bounds/directions applicable to the dataset)"
   ]
  },
  {
   "cell_type": "code",
   "execution_count": 229,
   "metadata": {},
   "outputs": [
    {
     "output_type": "execute_result",
     "data": {
      "text/plain": "No Bound    26612\nW           25323\nS           24992\nE           23402\nN           21523\nName: bound, dtype: int64"
     },
     "metadata": {},
     "execution_count": 229
    }
   ],
   "source": [
    "sub.loc[no_bound,'bound'] = 'No Bound'\n",
    "\n",
    "keep_bound = sub.bound.isin(['No Bound','N','E','S','W'])\n",
    "sub.drop(sub[~keep_bound].index, axis = 0, inplace = True)\n",
    "\n",
    "sub.bound.value_counts()"
   ]
  },
  {
   "cell_type": "markdown",
   "metadata": {},
   "source": [
    "We will review the ~500 missing values in the 'line' column similarly:"
   ]
  },
  {
   "cell_type": "code",
   "execution_count": 230,
   "metadata": {},
   "outputs": [
    {
     "output_type": "execute_result",
     "data": {
      "text/plain": "Miscellaneous Other                                           0.246606\nInjured or ill Customer (In Station) - Transported            0.162896\nMiscellaneous General Delays                                  0.144796\nEscalator/Elevator Incident                                   0.056561\nInjured Employee                                              0.049774\nInjured or ill Customer (In Station) - Medical Aid Refused    0.031674\nOperator Overspeeding                                         0.027149\nMiscellaneous Speed Control                                   0.022624\nStation Stairway Incident                                     0.020362\nDisorderly Patron                                             0.020362\nName: description, dtype: float64"
     },
     "metadata": {},
     "execution_count": 230
    }
   ],
   "source": [
    "no_line = sub['line'].isna()\n",
    "sub.loc[no_line].description.value_counts(normalize = True).head(10)"
   ]
  },
  {
   "cell_type": "markdown",
   "metadata": {},
   "source": [
    "The majority of these records are 'miscellaneous' or occur outside of the train. Therefore, we will keep these records and denote with 'No Line'.\n",
    "\n",
    "We will also standardize the values of the 'line' column by removing whitespaces, dashes, and general typos (via mapping). "
   ]
  },
  {
   "cell_type": "code",
   "execution_count": 231,
   "metadata": {},
   "outputs": [
    {
     "output_type": "execute_result",
     "data": {
      "text/plain": "BD        56652\nYU        55038\nSRT        4412\nSHP        3973\nYUBD       1257\nNoLine      469\nName: line, dtype: int64"
     },
     "metadata": {},
     "execution_count": 231
    }
   ],
   "source": [
    "sub.loc[no_line,'line'] = 'No Line'\n",
    "\n",
    "for char in ['/','-',' ']:\n",
    "    sub.line = sub.line.map(lambda x: str(x).replace(f'{char}', ''))\n",
    "\n",
    "line_mapping = {\n",
    "        'BD': 'BD',\n",
    "        'YU': 'YU',\n",
    "        'SRT': 'SRT',\n",
    "        'SHP': 'SHP',\n",
    "        'YUBD': 'YUBD',\n",
    "        'NoLine': 'NoLine',\n",
    "        'YUS': 'YU',\n",
    "        'BDYU': 'YUBD',\n",
    "        'BDYUS': 'YUBD',\n",
    "        'BDLINE': 'BD',\n",
    "        'YULINE': 'YU',\n",
    "        'BLOORDANFORTHLINES': 'BD'\n",
    "    }\n",
    "\n",
    "sub.line = sub.line.map(line_mapping)\n",
    "# Remove records with 'bound' not on a subway line\n",
    "not_sub = sub['line'].isna()\n",
    "sub.drop(sub[not_sub].index, axis = 0, inplace = True)\n",
    "\n",
    "sub.line.value_counts().head(20)"
   ]
  },
  {
   "cell_type": "code",
   "execution_count": null,
   "metadata": {},
   "outputs": [],
   "source": []
  }
 ],
 "metadata": {
  "language_info": {
   "codemirror_mode": {
    "name": "ipython",
    "version": 3
   },
   "file_extension": ".py",
   "mimetype": "text/x-python",
   "name": "python",
   "nbconvert_exporter": "python",
   "pygments_lexer": "ipython3",
   "version": "3.7.4-final"
  },
  "orig_nbformat": 2,
  "kernelspec": {
   "name": "python37464bit9a2000fb83cb4623880ac38e10c93e2e",
   "display_name": "Python 3.7.4 64-bit"
  }
 },
 "nbformat": 4,
 "nbformat_minor": 2
}